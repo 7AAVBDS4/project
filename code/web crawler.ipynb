{
 "cells": [
  {
   "cell_type": "code",
   "execution_count": 19,
   "metadata": {},
   "outputs": [
    {
     "name": "stdout",
     "output_type": "stream",
     "text": [
      "200\n"
     ]
    }
   ],
   "source": [
    "import requests\n",
    "import re\n",
    "import json\n",
    "from lxml import etree\n",
    "headers = {\n",
    "    'user-agent': 'Mozilla/5.0 (Windows NT 10.0; Win64; x64) AppleWebKit/537.36 (KHTML, like Gecko) Chrome/104.0.0.0 Safari/537.36'\n",
    "}\n",
    "url ='https://www.bilibili.com/bangumi/play/ss1559?spm_id_from=333.337.0.0'\n",
    "resp = requests.get(url, headers=headers)\n",
    "print(resp.status_code)\n",
    "text = resp.content.decode('utf-8')\n",
    "result = re.findall(r'window.__INITIAL_STATE__=(.*?);', text)\n",
    "comment_data = {}\n",
    "if result:\n",
    "    data = json.loads(result[0])\n",
    "    epList = data.get('epList', [])\n",
    "    for item in epList:\n",
    "        cid = item.get('cid')\n",
    "        comment_data[cid] = []\n",
    "        url = f\"https://comment.bilibili.com/{cid}.xml\"\n",
    "        res = requests.get(url)\n",
    "        xml_data = res.content\n",
    "        with open(f'./{cid}.xml', 'wb') as f:\n",
    "            f.write(xml_data)\n",
    "        soup = etree.HTML(xml_data)\n",
    "        content_all = soup.xpath('//d')\n",
    "        for content in content_all:\n",
    "            data = content.xpath('string(.)')\n",
    "            p = content.xpath('./@p')\n",
    "            if not p:\n",
    "                continue\n",
    "            p = p[0]\n",
    "            bullet_chat_time, _type, size, color, send_time, pool, uid, row_id, other = p.split(',')\n",
    "            data = content.xpath('string(.)')\n",
    "            comment_data[cid].append({\n",
    "                \"bullet_chat_time\": bullet_chat_time,\n",
    "                \"type\": _type,\n",
    "                \"size\": size,\n",
    "                \"color\": color,\n",
    "                \"send_time\": send_time,\n",
    "                \"pool\": pool,\n",
    "                \"uid\": uid,\n",
    "                \"row_id\": row_id,\n",
    "                \"other\": other,\n",
    "                \"message\": data\n",
    "            })\n",
    "            \n",
    "with open('foodwars', 'w', encoding='utf-8') as f:\n",
    "    f.write(json.dumps(comment_data, indent=4, ensure_ascii=False))\n"
   ]
  }
 ],
 "metadata": {
  "kernelspec": {
   "display_name": "Python 3",
   "language": "python",
   "name": "python3"
  },
  "language_info": {
   "codemirror_mode": {
    "name": "ipython",
    "version": 3
   },
   "file_extension": ".py",
   "mimetype": "text/x-python",
   "name": "python",
   "nbconvert_exporter": "python",
   "pygments_lexer": "ipython3",
   "version": "3.7.3"
  },
  "toc": {
   "base_numbering": 1,
   "nav_menu": {},
   "number_sections": true,
   "sideBar": true,
   "skip_h1_title": false,
   "title_cell": "Table of Contents",
   "title_sidebar": "Contents",
   "toc_cell": false,
   "toc_position": {},
   "toc_section_display": true,
   "toc_window_display": false
  }
 },
 "nbformat": 4,
 "nbformat_minor": 2
}
