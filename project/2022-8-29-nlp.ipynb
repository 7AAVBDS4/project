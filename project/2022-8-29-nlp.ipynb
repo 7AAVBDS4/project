{
 "cells": [
  {
   "cell_type": "code",
   "execution_count": 50,
   "id": "fb9e3dc7",
   "metadata": {},
   "outputs": [],
   "source": [
    "import json\n",
    "from collections import Counter\n",
    "import gensim\n",
    "import jieba\n",
    "from gensim.models.word2vec import Word2Vec\n",
    "from gensim.models import word2vec\n",
    "from tqdm import tqdm\n",
    "from scipy.linalg import norm\n",
    "import numpy as np\n",
    "import pandas as pd\n",
    "import random\n",
    "from sklearn.cluster import KMeans\n",
    "import jiagu\n",
    "import matplotlib.pyplot as plt\n",
    "plt.rcParams['font.sans-serif']=['SimHei'] #用来正常显示中文标签\n",
    "plt.rcParams['axes.unicode_minus'] = False #用来正常显示负号"
   ]
  },
  {
   "cell_type": "markdown",
   "id": "b4b1be48",
   "metadata": {},
   "source": [
    "# 高频词  高频句"
   ]
  },
  {
   "cell_type": "code",
   "execution_count": 28,
   "id": "bbeb4128",
   "metadata": {},
   "outputs": [],
   "source": [
    "def high_word_sentence(data):\n",
    "    with open(data, \"r\", encoding=\"utf-8-sig\") as f:\n",
    "        data = json.load(f)\n",
    "\n",
    "    def counter(arr):\n",
    "        return Counter(arr).most_common(10) # 返回出现频率最高的两个数\n",
    "\n",
    "    sentences = []\n",
    "    \n",
    "    try:\n",
    "        for i in data:\n",
    "            if '哈' in i['message']:\n",
    "                pass\n",
    "            else:\n",
    "                sentences.append(i['message'])\n",
    "    except:\n",
    "        for i in list(data.keys()):\n",
    "            for j in range(len(data[i])):\n",
    "                x = data[i][j]['message']\n",
    "                if '哈' in x:\n",
    "                    pass\n",
    "                else:\n",
    "                    sentences.append(x)        \n",
    "\n",
    "    words = []\n",
    "    for i in sentences:\n",
    "        aa = jieba.lcut(i)\n",
    "        for j in aa:\n",
    "            if len(j) >= 2:\n",
    "                words.append(j)\n",
    "\n",
    "    print('高频句')            \n",
    "    print(counter(sentences))\n",
    "\n",
    "    print('高频词')\n",
    "    print(counter(words))"
   ]
  },
  {
   "cell_type": "markdown",
   "id": "3a0be02d",
   "metadata": {},
   "source": [
    "## 人生一串"
   ]
  },
  {
   "cell_type": "code",
   "execution_count": 29,
   "id": "9c23b02d",
   "metadata": {},
   "outputs": [
    {
     "name": "stdout",
     "output_type": "stream",
     "text": [
      "高频句\n",
      "[('梦开始的地方', 24), ('筷', 19), ('饿梦开始的地方', 7), ('叔：终于是结束了', 7), ('次次考试高分', 7), ('身体健康', 7), ('玉带献宝', 5), ('陪一根', 5), ('玉袋献宝', 5), ('正片开始', 5)]\n",
      "高频词\n",
      "[('开始', 77), ('这个', 76), ('地方', 52), ('不香', 42), ('年轻', 41), ('日本', 39), ('青椒', 35), ('突然', 34), ('一个', 34), ('不是', 34)]\n"
     ]
    }
   ],
   "source": [
    "data = './数据/人生一串.json'\n",
    "high_word_sentence(data)"
   ]
  },
  {
   "cell_type": "markdown",
   "id": "d383f1e7",
   "metadata": {},
   "source": [
    "## 孤独的美食家"
   ]
  },
  {
   "cell_type": "code",
   "execution_count": 30,
   "id": "c6834800",
   "metadata": {},
   "outputs": [
    {
     "name": "stdout",
     "output_type": "stream",
     "text": [
      "高频句\n",
      "[('富贵使我们相遇', 38), ('好惨一男的', 25), ('富贵让我们相遇', 14), ('加班有害健康', 13), ('香水有毒', 12), ('限免使我们相遇', 12), ('网络一线牵，珍惜这段缘', 11), ('红红火火恍恍惚惚', 9), ('双向奔赴', 8), ('哦豁', 7)]\n",
      "高频词\n",
      "[('这个', 260), ('指纹', 174), ('小哥', 158), ('我们', 147), ('会员', 143), ('喜欢', 117), ('相遇', 116), ('啊啊啊', 111), ('不是', 110), ('没有', 97)]\n"
     ]
    }
   ],
   "source": [
    "data = './数据/孤独的美食家.json'\n",
    "high_word_sentence(data)"
   ]
  },
  {
   "cell_type": "markdown",
   "id": "9756a525",
   "metadata": {},
   "source": [
    "## 杀死伊芙"
   ]
  },
  {
   "cell_type": "code",
   "execution_count": 31,
   "id": "53d99fef",
   "metadata": {},
   "outputs": [
    {
     "name": "stdout",
     "output_type": "stream",
     "text": [
      "高频句\n",
      "[('富贵使我们相遇', 38), ('好惨一男的', 25), ('富贵让我们相遇', 14), ('加班有害健康', 13), ('香水有毒', 12), ('限免使我们相遇', 12), ('网络一线牵，珍惜这段缘', 11), ('红红火火恍恍惚惚', 9), ('双向奔赴', 8), ('哦豁', 7)]\n",
      "高频词\n",
      "[('这个', 260), ('指纹', 174), ('小哥', 158), ('我们', 147), ('会员', 143), ('喜欢', 117), ('相遇', 116), ('啊啊啊', 111), ('不是', 110), ('没有', 97)]\n"
     ]
    }
   ],
   "source": [
    "data = './数据/杀死伊芙.json'\n",
    "high_word_sentence(data)"
   ]
  },
  {
   "cell_type": "markdown",
   "id": "5b31ced5",
   "metadata": {},
   "source": [
    "## 食戟之灵"
   ]
  },
  {
   "cell_type": "code",
   "execution_count": 32,
   "id": "e3de632d",
   "metadata": {},
   "outputs": [
    {
     "name": "stdout",
     "output_type": "stream",
     "text": [
      "高频句\n",
      "[('完结撒花', 136), ('完结撒花，感谢陪伴', 62), ('泪目', 58), ('正片开始', 57), ('神仙打架', 57), ('招待不周', 55), ('分子料理', 43), ('眯眯眼都是怪物', 37), ('你脸红个泡泡茶壶', 32), ('感谢土豪', 30)]\n",
      "高频词\n",
      "[('这个', 1070), ('男主', 978), ('就是', 918), ('一个', 839), ('不是', 781), ('真的', 718), ('可爱', 610), ('完结', 595), ('没有', 578), ('料理', 534)]\n"
     ]
    }
   ],
   "source": [
    "data = './数据/食戟之灵.json'\n",
    "high_word_sentence(data)"
   ]
  },
  {
   "cell_type": "markdown",
   "id": "689faece",
   "metadata": {},
   "source": [
    "## 舌尖上的中国"
   ]
  },
  {
   "cell_type": "code",
   "execution_count": 33,
   "id": "dee8d7c0",
   "metadata": {},
   "outputs": [
    {
     "name": "stdout",
     "output_type": "stream",
     "text": [
      "高频句\n",
      "[('多谢款待', 2033), ('感谢袁爷爷', 385), ('多谢款待！', 166), ('梦开始的地方', 162), ('完结撒花', 132), ('高端的食材往往只需要采用最朴素的烹饪方式', 128), ('1', 102), ('高端的食材往往只需要最朴素的烹饪方式', 89), ('几秒不见，甚是想念', 80), ('饿了', 78)]\n",
      "高频词\n",
      "[('款待', 2499), ('多谢', 2444), ('好吃', 2037), ('这个', 1487), ('2022', 1052), ('真的', 1049), ('喜欢', 888), ('感谢', 786), ('2021', 745), ('就是', 727)]\n"
     ]
    }
   ],
   "source": [
    "data = './数据/舌尖上的中国.json'\n",
    "high_word_sentence(data)"
   ]
  },
  {
   "cell_type": "markdown",
   "id": "e6dc72fb",
   "metadata": {},
   "source": [
    "# 情感分析"
   ]
  },
  {
   "cell_type": "code",
   "execution_count": 35,
   "id": "4dbbf75e",
   "metadata": {},
   "outputs": [],
   "source": [
    "def emotional_analysis(sentence):\n",
    "    \n",
    "    sentiment = jiagu.sentiment(sentence)\n",
    "    \n",
    "    if sentiment[0] == 'positive' and sentiment[1] > 0.8:\n",
    "        return 'positive'\n",
    "    elif sentiment[0] == 'negative' and sentiment[1] > 0.8:\n",
    "        return 'negative'\n",
    "    else:\n",
    "        return 'neutral'\n",
    "    "
   ]
  },
  {
   "cell_type": "code",
   "execution_count": 42,
   "id": "0564ad44",
   "metadata": {},
   "outputs": [],
   "source": [
    "def json_to_sentenceList(data):\n",
    "    with open(data, \"r\", encoding=\"utf-8-sig\") as f:\n",
    "        data = json.load(f)\n",
    "\n",
    "    sentences_list = []\n",
    "    \n",
    "    try:\n",
    "        for i in data:\n",
    "            if '哈' in i['message']:\n",
    "                pass\n",
    "            else:\n",
    "                sentences_list.append(i['message'])\n",
    "    except:\n",
    "        for i in list(data.keys()):\n",
    "            for j in range(len(data[i])):\n",
    "                x = data[i][j]['message']\n",
    "                if '哈' in x:\n",
    "                    pass\n",
    "                else:\n",
    "                    sentences_list.append(x) \n",
    "                    \n",
    "    return sentences_list"
   ]
  },
  {
   "cell_type": "code",
   "execution_count": 52,
   "id": "a0cc7dc7",
   "metadata": {},
   "outputs": [],
   "source": [
    "def statistic_semotional_analysis(data):\n",
    "    \n",
    "    statistic_result = {}\n",
    "    \n",
    "    negative = []\n",
    "    positive = []\n",
    "    neutral = []\n",
    "\n",
    "    sentences = json_to_sentenceList(data)\n",
    "    \n",
    "    all_num = len(sentences)\n",
    "    \n",
    "    for i in sentences:\n",
    "        \n",
    "        result = emotional_analysis(i)\n",
    "        \n",
    "        if result == 'positive':\n",
    "            positive.append(i)\n",
    "        elif result == 'negative':\n",
    "            negative.append(i)\n",
    "        elif result == 'neutral':\n",
    "            neutral.append(i)\n",
    "            \n",
    "    positive_num = len(positive)\n",
    "    negative_num = len(negative)\n",
    "    neutral_num = len(neutral)\n",
    "    \n",
    "    percent_positive = round((positive_num/all_num)*100, 2)\n",
    "    percent_negative = round((negative_num/all_num)*100, 2)\n",
    "    percent_neutral = round((neutral_num/all_num)*100, 2)\n",
    "    \n",
    "    statistic_result['all_num'] = all_num\n",
    "    statistic_result['positive_num'] = positive_num\n",
    "    statistic_result['negative_num'] = negative_num\n",
    "    statistic_result['neutral_num'] = neutral_num\n",
    "    statistic_result['percent_positive'] = percent_positive\n",
    "    statistic_result['percent_negative'] = percent_negative\n",
    "    statistic_result['percent_neutral'] = percent_neutral\n",
    "    \n",
    "    statistic_result['analysis_num_list'] = [positive_num, negative_num, neutral_num]\n",
    "    statistic_result['analysis_label_list'] = ['positive', 'negative', 'neutral']\n",
    "    \n",
    "    return statistic_result"
   ]
  },
  {
   "cell_type": "code",
   "execution_count": 65,
   "id": "1618dde6",
   "metadata": {},
   "outputs": [],
   "source": [
    "def round_pie_chart(data):\n",
    "    plt.figure(figsize=(10, 10.5)) # 图片尺寸\n",
    "    \n",
    "    y = data['analysis_num_list']\n",
    "    label123 = data['analysis_label_list']\n",
    "\n",
    "    plt.pie(y,\n",
    "            labels=label123, # 设置饼图标签\n",
    "            colors=[\"#d5695d\", \"#5d8ca8\", \"#65a479\"], # 设置饼图颜色\n",
    "            explode=(0, 0, 0), # 第二部分突出显示，值越大，距离中心越远\n",
    "            autopct='%.2f%%', # 格式化输出百分比\n",
    "           )\n",
    "    \n",
    "    plt.title(\"RUNOOB Pie Test\")\n",
    "    plt.show()\n",
    "    "
   ]
  },
  {
   "cell_type": "markdown",
   "id": "618fdb1e",
   "metadata": {},
   "source": [
    "## 人生一串"
   ]
  },
  {
   "cell_type": "code",
   "execution_count": 66,
   "id": "101613f4",
   "metadata": {},
   "outputs": [
    {
     "data": {
      "text/plain": [
       "{'all_num': 2064,\n",
       " 'positive_num': 174,\n",
       " 'negative_num': 775,\n",
       " 'neutral_num': 1115,\n",
       " 'percent_positive': 8.43,\n",
       " 'percent_negative': 37.55,\n",
       " 'percent_neutral': 54.02,\n",
       " 'analysis_num_list': [174, 775, 1115],\n",
       " 'analysis_label_list': ['positive', 'negative', 'neutral']}"
      ]
     },
     "execution_count": 66,
     "metadata": {},
     "output_type": "execute_result"
    }
   ],
   "source": [
    "data = './数据/人生一串.json'\n",
    "statistic_semotional_analysis(data)"
   ]
  },
  {
   "cell_type": "code",
   "execution_count": 67,
   "id": "fe12f25e",
   "metadata": {},
   "outputs": [
    {
     "data": {
      "image/png": "[encoded data removed]",
      "text/plain": [
       "<Figure size 720x756 with 1 Axes>"
      ]
     },
     "metadata": {},
     "output_type": "display_data"
    }
   ],
   "source": [
    "data = statistic_semotional_analysis(data)\n",
    "round_pie_chart(data)"
   ]
  },
  {
   "cell_type": "markdown",
   "id": "63d35916",
   "metadata": {},
   "source": [
    "## 孤独的美食家"
   ]
  },
  {
   "cell_type": "code",
   "execution_count": 68,
   "id": "6f02d0d8",
   "metadata": {},
   "outputs": [
    {
     "data": {
      "text/plain": [
       "{'all_num': 5465,\n",
       " 'positive_num': 492,\n",
       " 'negative_num': 1965,\n",
       " 'neutral_num': 3008,\n",
       " 'percent_positive': 9.0,\n",
       " 'percent_negative': 35.96,\n",
       " 'percent_neutral': 55.04,\n",
       " 'analysis_num_list': [492, 1965, 3008],\n",
       " 'analysis_label_list': ['positive', 'negative', 'neutral']}"
      ]
     },
     "execution_count": 68,
     "metadata": {},
     "output_type": "execute_result"
    }
   ],
   "source": [
    "data = './数据/孤独的美食家.json'\n",
    "statistic_semotional_analysis(data)"
   ]
  },
  {
   "cell_type": "code",
   "execution_count": 69,
   "id": "34176499",
   "metadata": {},
   "outputs": [
    {
     "data": {
      "image/png": "[encoded data removed]",
      "text/plain": [
       "<Figure size 720x756 with 1 Axes>"
      ]
     },
     "metadata": {},
     "output_type": "display_data"
    }
   ],
   "source": [
    "data = statistic_semotional_analysis(data)\n",
    "round_pie_chart(data)"
   ]
  },
  {
   "cell_type": "markdown",
   "id": "d418ecd8",
   "metadata": {},
   "source": [
    "## 杀死伊芙"
   ]
  },
  {
   "cell_type": "code",
   "execution_count": 70,
   "id": "a1647385",
   "metadata": {},
   "outputs": [
    {
     "data": {
      "text/plain": [
       "{'all_num': 5465,\n",
       " 'positive_num': 492,\n",
       " 'negative_num': 1965,\n",
       " 'neutral_num': 3008,\n",
       " 'percent_positive': 9.0,\n",
       " 'percent_negative': 35.96,\n",
       " 'percent_neutral': 55.04,\n",
       " 'analysis_num_list': [492, 1965, 3008],\n",
       " 'analysis_label_list': ['positive', 'negative', 'neutral']}"
      ]
     },
     "execution_count": 70,
     "metadata": {},
     "output_type": "execute_result"
    }
   ],
   "source": [
    "data = './数据/杀死伊芙.json'\n",
    "statistic_semotional_analysis(data)"
   ]
  },
  {
   "cell_type": "code",
   "execution_count": 71,
   "id": "7c78acee",
   "metadata": {},
   "outputs": [
    {
     "data": {
      "image/png": "[encoded data removed]",
      "text/plain": [
       "<Figure size 720x756 with 1 Axes>"
      ]
     },
     "metadata": {},
     "output_type": "display_data"
    }
   ],
   "source": [
    "data = statistic_semotional_analysis(data)\n",
    "round_pie_chart(data)"
   ]
  },
  {
   "cell_type": "markdown",
   "id": "7e39cbd0",
   "metadata": {},
   "source": [
    "## 食戟之灵"
   ]
  },
  {
   "cell_type": "code",
   "execution_count": 72,
   "id": "4e120bde",
   "metadata": {},
   "outputs": [
    {
     "data": {
      "text/plain": [
       "{'all_num': 46051,\n",
       " 'positive_num': 4070,\n",
       " 'negative_num': 15899,\n",
       " 'neutral_num': 26082,\n",
       " 'percent_positive': 8.84,\n",
       " 'percent_negative': 34.52,\n",
       " 'percent_neutral': 56.64,\n",
       " 'analysis_num_list': [4070, 15899, 26082],\n",
       " 'analysis_label_list': ['positive', 'negative', 'neutral']}"
      ]
     },
     "execution_count": 72,
     "metadata": {},
     "output_type": "execute_result"
    }
   ],
   "source": [
    "data = './数据/食戟之灵.json'\n",
    "statistic_semotional_analysis(data)"
   ]
  },
  {
   "cell_type": "code",
   "execution_count": 73,
   "id": "d156588b",
   "metadata": {},
   "outputs": [
    {
     "data": {
      "image/png": "[encoded data removed]",
      "text/plain": [
       "<Figure size 720x756 with 1 Axes>"
      ]
     },
     "metadata": {},
     "output_type": "display_data"
    }
   ],
   "source": [
    "data = statistic_semotional_analysis(data)\n",
    "round_pie_chart(data)"
   ]
  },
  {
   "cell_type": "markdown",
   "id": "895a2af0",
   "metadata": {},
   "source": [
    "## 舌尖上的中国"
   ]
  },
  {
   "cell_type": "code",
   "execution_count": 74,
   "id": "7781ee2a",
   "metadata": {},
   "outputs": [
    {
     "data": {
      "text/plain": [
       "{'all_num': 48441,\n",
       " 'positive_num': 8268,\n",
       " 'negative_num': 12792,\n",
       " 'neutral_num': 27381,\n",
       " 'percent_positive': 17.07,\n",
       " 'percent_negative': 26.41,\n",
       " 'percent_neutral': 56.52,\n",
       " 'analysis_num_list': [8268, 12792, 27381],\n",
       " 'analysis_label_list': ['positive', 'negative', 'neutral']}"
      ]
     },
     "execution_count": 74,
     "metadata": {},
     "output_type": "execute_result"
    }
   ],
   "source": [
    "data = './数据/舌尖上的中国.json'\n",
    "statistic_semotional_analysis(data)"
   ]
  },
  {
   "cell_type": "code",
   "execution_count": 75,
   "id": "14005961",
   "metadata": {},
   "outputs": [
    {
     "data": {
      "image/png": "[encoded data removed]",
      "text/plain": [
       "<Figure size 720x756 with 1 Axes>"
      ]
     },
     "metadata": {},
     "output_type": "display_data"
    }
   ],
   "source": [
    "data = statistic_semotional_analysis(data)\n",
    "round_pie_chart(data)"
   ]
  },
  {
   "cell_type": "markdown",
   "id": "4fedd77b",
   "metadata": {},
   "source": [
    "# 动机分析"
   ]
  },
  {
   "cell_type": "code",
   "execution_count": 190,
   "id": "03c858f6",
   "metadata": {},
   "outputs": [],
   "source": [
    "def Motivation_Analysis(data):\n",
    "    \n",
    "    global model, s\n",
    "    \n",
    "    print('数据预处理中.........................')\n",
    "    \n",
    "    with open(data, \"r\", encoding=\"utf-8-sig\") as f:\n",
    "        data = json.load(f)\n",
    "\n",
    "    sentences_list = []\n",
    "    \n",
    "    # 预处理 去停用词\n",
    "    try:\n",
    "        for i in data:\n",
    "            if '哈' in i['message']:\n",
    "                pass\n",
    "            else:\n",
    "                sentences_list.append(i['message'])\n",
    "    except:\n",
    "        for i in list(data.keys()):\n",
    "            for j in range(len(data[i])):\n",
    "                x = data[i][j]['message']\n",
    "                if '哈' in x:\n",
    "                    pass\n",
    "                else:\n",
    "                    sentences_list.append(x) \n",
    "                    \n",
    "    train_data_preprocess_result = []\n",
    "    \n",
    "    for i in tqdm(sentences_list):\n",
    "        i = jieba.lcut(i)  # jieba分词\n",
    "        train_data_preprocess_result.append(i)\n",
    "        \n",
    "    print('词向量训练中.........................')\n",
    "    # 训练词向量\n",
    "    model = Word2Vec()\n",
    "    model.build_vocab(train_data_preprocess_result)\n",
    "    # 输入模型的数据形式train_data_preprocess_result\n",
    "    # size词向量的维度\n",
    "    model = word2vec.Word2Vec(train_data_preprocess_result, vector_size=100, hs=1, min_count=0, window=3)\n",
    "    model.save('word2vec.model')\n",
    "    \n",
    "#     model = word2vec.Word2Vec.load('word2vec.model')  # 加载word2vec模型\n",
    "\n",
    "    database_sentence_vector = {}\n",
    "\n",
    "    for i in tqdm(sentences_list):\n",
    "        j = sentence_to_vector(i)\n",
    "        database_sentence_vector[i] = j\n",
    "        \n",
    "        \n",
    "    print('聚类中.........................')\n",
    "    keys_sentence = database_sentence_vector.keys()\n",
    "\n",
    "    # 获取句子对于的句子向量\n",
    "    sentencevector = []\n",
    "    for key in keys_sentence:\n",
    "        sentencevector.append(database_sentence_vector[key])\n",
    "\n",
    "     #分类\n",
    "    classCount = 3 #分类数\n",
    "    clf = KMeans(n_clusters=classCount)\n",
    "    s = clf.fit(sentencevector)\n",
    "\n",
    "    labels = clf.labels_\n",
    "\n",
    "    #把是一类的放入到一个字典里\n",
    "    classCollects_sentence = {}\n",
    "    for i in tqdm(range(len(keys_sentence))):\n",
    "        if labels[i] in list(classCollects_sentence.keys()):\n",
    "            classCollects_sentence[labels[i]].append(list(keys_sentence)[i])\n",
    "        else:\n",
    "            classCollects_sentence = {0:[],1:[],2:[]}\n",
    "            \n",
    "            \n",
    "    tmp_dict = {}\n",
    "            \n",
    "    tmp_dict['num_label_0'] = len(classCollects_sentence[0])\n",
    "    tmp_dict['num_label_1'] = len(classCollects_sentence[1])\n",
    "    tmp_dict['num_label_2'] = len(classCollects_sentence[2])\n",
    "    \n",
    "    tmp_dict['num_label_all'] = len(classCollects_sentence[0]) + len(classCollects_sentence[1]) + len(classCollects_sentence[2])\n",
    "            \n",
    "    return classCollects_sentence, tmp_dict\n",
    "    "
   ]
  },
  {
   "cell_type": "code",
   "execution_count": 191,
   "id": "1d9fe7ec",
   "metadata": {},
   "outputs": [],
   "source": [
    "def ALL_Motivation_Analysis():\n",
    "    \n",
    "    global model, s\n",
    "    \n",
    "    print('数据预处理中.........................')\n",
    "    \n",
    "#     with open(data, \"r\", encoding=\"utf-8-sig\") as f:\n",
    "#         data = json.load(f)\n",
    "        \n",
    "    with open('./数据/人生一串.json', \"r\", encoding=\"utf-8-sig\") as f:\n",
    "        data11 = json.load(f)\n",
    "        \n",
    "    with open('./数据/孤独的美食家.json', \"r\", encoding=\"utf-8-sig\") as f:\n",
    "        data22 = json.load(f)\n",
    "        \n",
    "    with open('./数据/杀死伊芙.json', \"r\", encoding=\"utf-8-sig\") as f:\n",
    "        data33 = json.load(f)\n",
    "        \n",
    "    with open('./数据/食戟之灵.json', \"r\", encoding=\"utf-8-sig\") as f:\n",
    "        data44 = json.load(f)\n",
    "        \n",
    "    with open('./数据/舌尖上的中国.json', \"r\", encoding=\"utf-8-sig\") as f:\n",
    "        data55 = json.load(f)\n",
    "        \n",
    "        \n",
    "    \n",
    "    \n",
    "    def process_data(data):\n",
    "        \n",
    "        global sentences_list\n",
    "        \n",
    "        sentences_list = []\n",
    "\n",
    "        # 预处理 去停用词\n",
    "        try:\n",
    "            for i in data:\n",
    "                if '哈' in i['message']:\n",
    "                    pass\n",
    "                else:\n",
    "                    sentences_list.append(i['message'])\n",
    "        except:\n",
    "            for i in list(data.keys()):\n",
    "                for j in range(len(data[i])):\n",
    "                    x = data[i][j]['message']\n",
    "                    if '哈' in x:\n",
    "                        pass\n",
    "                    else:\n",
    "                        sentences_list.append(x)\n",
    "                        \n",
    "        return sentences_list\n",
    "    \n",
    "    data11 = process_data(data11)\n",
    "    data22 = process_data(data22)\n",
    "    data33 = process_data(data33)\n",
    "    data44 = process_data(data44)\n",
    "    data55 = process_data(data55)\n",
    "    \n",
    "    data = data11 + data22 + data33 + data44 + data55\n",
    "    \n",
    "                    \n",
    "    train_data_preprocess_result = []\n",
    "    \n",
    "    for i in tqdm(sentences_list):\n",
    "        i = jieba.lcut(i)  # jieba分词\n",
    "        train_data_preprocess_result.append(i)\n",
    "        \n",
    "    print('词向量训练中.........................')\n",
    "    # 训练词向量\n",
    "    model = Word2Vec()\n",
    "    model.build_vocab(train_data_preprocess_result)\n",
    "    # 输入模型的数据形式train_data_preprocess_result\n",
    "    # size词向量的维度\n",
    "    model = word2vec.Word2Vec(train_data_preprocess_result, vector_size=100, hs=1, min_count=0, window=3)\n",
    "    model.save('word2vec.model')\n",
    "    \n",
    "#     model = word2vec.Word2Vec.load('word2vec.model')  # 加载word2vec模型\n",
    "\n",
    "    database_sentence_vector = {}\n",
    "\n",
    "    for i in tqdm(sentences_list):\n",
    "        j = sentence_to_vector(i)\n",
    "        database_sentence_vector[i] = j\n",
    "        \n",
    "        \n",
    "    print('聚类中.........................')\n",
    "    keys_sentence = database_sentence_vector.keys()\n",
    "\n",
    "    # 获取句子对于的句子向量\n",
    "    sentencevector = []\n",
    "    for key in keys_sentence:\n",
    "        sentencevector.append(database_sentence_vector[key])\n",
    "\n",
    "     #分类\n",
    "    classCount = 3 #分类数\n",
    "    clf = KMeans(n_clusters=classCount)\n",
    "    s = clf.fit(sentencevector)\n",
    "\n",
    "    labels = clf.labels_\n",
    "\n",
    "    #把是一类的放入到一个字典里\n",
    "    classCollects_sentence = {}\n",
    "    for i in tqdm(range(len(keys_sentence))):\n",
    "        if labels[i] in list(classCollects_sentence.keys()):\n",
    "            classCollects_sentence[labels[i]].append(list(keys_sentence)[i])\n",
    "        else:\n",
    "            classCollects_sentence = {0:[],1:[],2:[]}\n",
    "            \n",
    "    tmp_dict = {}\n",
    "            \n",
    "    tmp_dict['num_label_0'] = len(classCollects_sentence[0])\n",
    "    tmp_dict['num_label_1'] = len(classCollects_sentence[1])\n",
    "    tmp_dict['num_label_2'] = len(classCollects_sentence[2])\n",
    "    \n",
    "    tmp_dict['num_label_all'] = len(classCollects_sentence[0]) + len(classCollects_sentence[1]) + len(classCollects_sentence[2])\n",
    "            \n",
    "    return classCollects_sentence, tmp_dict\n",
    "    "
   ]
  },
  {
   "cell_type": "code",
   "execution_count": 192,
   "id": "4b923705",
   "metadata": {},
   "outputs": [],
   "source": [
    "def sentence_to_vector(sentence):\n",
    "    \"\"\"句子 向量化\"\"\"\n",
    "    sentence = jieba.lcut(sentence)\n",
    "    sentence_vector = np.zeros(100)  # 创建100维度的0向量\n",
    "    for word in sentence:\n",
    "        try:\n",
    "            sentence_vector += model.wv[word]  # 执行 word embedding 操作\n",
    "        except:\n",
    "            pass\n",
    "    sentence_vector /= len(sentence)\n",
    "    return sentence_vector  # 数据类型：列表(向量)"
   ]
  },
  {
   "cell_type": "code",
   "execution_count": 193,
   "id": "f5472226",
   "metadata": {},
   "outputs": [],
   "source": [
    "def sentence_similarity(sentence1,sentence2):\n",
    "    \"\"\"句子 相似度 计算\"\"\"\n",
    "    sentence1 = sentence_to_vector(sentence1)\n",
    "    sentence2 = sentence_to_vector(sentence2)\n",
    "    result = np.dot(sentence1, sentence2) / (norm(sentence1) * norm(sentence2))\n",
    "    return result"
   ]
  },
  {
   "cell_type": "code",
   "execution_count": 194,
   "id": "48611a41",
   "metadata": {},
   "outputs": [],
   "source": [
    "def Cluster_Predict(data):\n",
    "    p_data = sentence_to_vector(data)\n",
    "    f = np.array([p_data])\n",
    "    return s.predict(f)[0]"
   ]
  },
  {
   "cell_type": "markdown",
   "id": "a963f49a",
   "metadata": {},
   "source": [
    "## 数据准备"
   ]
  },
  {
   "cell_type": "code",
   "execution_count": 195,
   "id": "fb06d717",
   "metadata": {},
   "outputs": [],
   "source": [
    "data123 = pd.read_excel('./123.xlsx')\n",
    "\n",
    "rsyc = {}  # 人生一串\n",
    "gddmsj = {}  # 孤独的美食家\n",
    "ssyf = {}  # 杀死伊芙\n",
    "sjzl = {}  # 食戟之灵\n",
    "sjsdzg = {}  #  舌尖上的中国\n",
    "\n",
    "labels = list(data123['需求'])\n",
    "data1 = list(data123['舌尖上的中国'])\n",
    "data2 = list(data123['人生一串'])\n",
    "data3 = list(data123['孤独的美食家'])\n",
    "data4 = list(data123['杀死伊芙'])\n",
    "\n",
    "for i in range(len(labels)):\n",
    "    \n",
    "    sjsdzg[data1[i]] = labels[i]\n",
    "    rsyc[data2[i]] = labels[i]\n",
    "    gddmsj[data3[i]] = labels[i]\n",
    "    ssyf[data4[i]] = labels[i]"
   ]
  },
  {
   "cell_type": "markdown",
   "id": "4a8eac96",
   "metadata": {},
   "source": [
    "## 人生一串"
   ]
  },
  {
   "cell_type": "markdown",
   "id": "d90ebc93",
   "metadata": {},
   "source": [
    "### 单独数据-预测结果"
   ]
  },
  {
   "cell_type": "code",
   "execution_count": 202,
   "id": "063df7be",
   "metadata": {},
   "outputs": [
    {
     "name": "stdout",
     "output_type": "stream",
     "text": [
      "数据预处理中.........................\n"
     ]
    },
    {
     "name": "stderr",
     "output_type": "stream",
     "text": [
      "100%|███████████████████████████████████████████████████████████████████████████| 2064/2064 [00:00<00:00, 22495.00it/s]"
     ]
    },
    {
     "name": "stdout",
     "output_type": "stream",
     "text": [
      "词向量训练中.........................\n"
     ]
    },
    {
     "name": "stderr",
     "output_type": "stream",
     "text": [
      "\n",
      "100%|███████████████████████████████████████████████████████████████████████████| 2064/2064 [00:00<00:00, 14888.61it/s]\n"
     ]
    },
    {
     "name": "stdout",
     "output_type": "stream",
     "text": [
      "聚类中.........................\n"
     ]
    },
    {
     "name": "stderr",
     "output_type": "stream",
     "text": [
      "100%|███████████████████████████████████████████████████████████████████████████| 1927/1927 [00:00<00:00, 37885.53it/s]"
     ]
    },
    {
     "name": "stdout",
     "output_type": "stream",
     "text": [
      "{'num_label_0': 696, 'num_label_1': 167, 'num_label_2': 1063, 'num_label_all': 1926}\n",
      "2 社交 我上辈子一定是重庆人\n",
      "2 社交 还好我是人类\n",
      "2 社交 弹幕都惊讶啥呢鸭头鱼头兔头不都吃，整只鸽子不也挺吓人，换个动物怎么突然就都受不了了\n",
      "2 信息 我总算知道标题为什么这么取了\n",
      "0 信息 跟吃豆腐一样爽\n",
      "0 信息 田螺姑娘这种童话永远都不可能出现在广东\n",
      "2 娱乐 蛋蛋的忧桑\n",
      "2 娱乐 羊：快放开我 撒手\n",
      "2 娱乐 为什么我的嘴角时长闪现出泪花\n"
     ]
    },
    {
     "name": "stderr",
     "output_type": "stream",
     "text": [
      "\n"
     ]
    }
   ],
   "source": [
    "data = './数据/人生一串.json'\n",
    "result = Motivation_Analysis(data)\n",
    "\n",
    "print(result[1])\n",
    "\n",
    "for i in list(rsyc.keys()):\n",
    "    print(Cluster_Predict(i), rsyc[i], i)"
   ]
  },
  {
   "cell_type": "markdown",
   "id": "aa306258",
   "metadata": {},
   "source": [
    "### 全部数据-预测结果"
   ]
  },
  {
   "cell_type": "code",
   "execution_count": 203,
   "id": "d1384ef4",
   "metadata": {},
   "outputs": [
    {
     "name": "stdout",
     "output_type": "stream",
     "text": [
      "数据预处理中.........................\n"
     ]
    },
    {
     "name": "stderr",
     "output_type": "stream",
     "text": [
      "100%|█████████████████████████████████████████████████████████████████████████| 48441/48441 [00:01<00:00, 25877.05it/s]\n"
     ]
    },
    {
     "name": "stdout",
     "output_type": "stream",
     "text": [
      "词向量训练中.........................\n"
     ]
    },
    {
     "name": "stderr",
     "output_type": "stream",
     "text": [
      "100%|█████████████████████████████████████████████████████████████████████████| 48441/48441 [00:02<00:00, 16222.61it/s]\n"
     ]
    },
    {
     "name": "stdout",
     "output_type": "stream",
     "text": [
      "聚类中.........................\n"
     ]
    },
    {
     "name": "stderr",
     "output_type": "stream",
     "text": [
      "100%|██████████████████████████████████████████████████████████████████████████| 39620/39620 [00:12<00:00, 3109.31it/s]"
     ]
    },
    {
     "name": "stdout",
     "output_type": "stream",
     "text": [
      "{'num_label_0': 22506, 'num_label_1': 15424, 'num_label_2': 1689, 'num_label_all': 39619}\n",
      "0 社交 我上辈子一定是重庆人\n",
      "0 社交 还好我是人类\n",
      "0 社交 弹幕都惊讶啥呢鸭头鱼头兔头不都吃，整只鸽子不也挺吓人，换个动物怎么突然就都受不了了\n",
      "0 信息 我总算知道标题为什么这么取了\n",
      "1 信息 跟吃豆腐一样爽\n",
      "0 信息 田螺姑娘这种童话永远都不可能出现在广东\n",
      "1 娱乐 蛋蛋的忧桑\n",
      "1 娱乐 羊：快放开我 撒手\n",
      "1 娱乐 为什么我的嘴角时长闪现出泪花\n"
     ]
    },
    {
     "name": "stderr",
     "output_type": "stream",
     "text": [
      "\n"
     ]
    }
   ],
   "source": [
    "result = ALL_Motivation_Analysis()\n",
    "\n",
    "print(result[1])\n",
    "\n",
    "for i in list(rsyc.keys()):\n",
    "    print(Cluster_Predict(i), rsyc[i], i)"
   ]
  },
  {
   "cell_type": "markdown",
   "id": "b84189a5",
   "metadata": {},
   "source": [
    "## 孤独的美食家"
   ]
  },
  {
   "cell_type": "markdown",
   "id": "a31612fe",
   "metadata": {},
   "source": [
    "### 单独数据-预测结果"
   ]
  },
  {
   "cell_type": "code",
   "execution_count": 205,
   "id": "00ba7597",
   "metadata": {
    "scrolled": true
   },
   "outputs": [
    {
     "name": "stdout",
     "output_type": "stream",
     "text": [
      "数据预处理中.........................\n"
     ]
    },
    {
     "name": "stderr",
     "output_type": "stream",
     "text": [
      "100%|███████████████████████████████████████████████████████████████████████████| 5465/5465 [00:00<00:00, 24906.06it/s]\n"
     ]
    },
    {
     "name": "stdout",
     "output_type": "stream",
     "text": [
      "词向量训练中.........................\n"
     ]
    },
    {
     "name": "stderr",
     "output_type": "stream",
     "text": [
      "100%|███████████████████████████████████████████████████████████████████████████| 5465/5465 [00:00<00:00, 16095.77it/s]\n"
     ]
    },
    {
     "name": "stdout",
     "output_type": "stream",
     "text": [
      "聚类中.........................\n"
     ]
    },
    {
     "name": "stderr",
     "output_type": "stream",
     "text": [
      "100%|███████████████████████████████████████████████████████████████████████████| 5032/5032 [00:00<00:00, 17045.42it/s]"
     ]
    },
    {
     "name": "stdout",
     "output_type": "stream",
     "text": [
      "{'num_label_0': 1642, 'num_label_1': 3326, 'num_label_2': 63, 'num_label_all': 5031}\n",
      "1 社交 梦开始的地方，各位\n",
      "1 社交 来四川得吃鱼香肉丝啊\n",
      "0 社交 来云南吃野生菌啊\n",
      "数据有问题 nan\n",
      "0 信息 龙口粉丝\n",
      "0 信息 放醋啊！吃面怎么能不放醋\n",
      "1 娱乐 翻译了个寂寞\n",
      "1 娱乐 哈哈哈哈哈哈哈这个化妆技术也是没谁了\n",
      "0 娱乐 叔の害怕\n"
     ]
    },
    {
     "name": "stderr",
     "output_type": "stream",
     "text": [
      "\n"
     ]
    }
   ],
   "source": [
    "data = './数据/孤独的美食家.json'\n",
    "result = Motivation_Analysis(data)\n",
    "\n",
    "print(result[1])\n",
    "\n",
    "for i in list(gddmsj.keys()):\n",
    "    try:\n",
    "        print(Cluster_Predict(i), gddmsj[i], i)\n",
    "    except:\n",
    "        print(\"数据有问题\",i)"
   ]
  },
  {
   "cell_type": "markdown",
   "id": "5f2ad237",
   "metadata": {},
   "source": [
    "### 全部数据-预测结果"
   ]
  },
  {
   "cell_type": "code",
   "execution_count": 206,
   "id": "0436527d",
   "metadata": {},
   "outputs": [
    {
     "name": "stdout",
     "output_type": "stream",
     "text": [
      "数据预处理中.........................\n"
     ]
    },
    {
     "name": "stderr",
     "output_type": "stream",
     "text": [
      "100%|█████████████████████████████████████████████████████████████████████████| 48441/48441 [00:01<00:00, 27271.47it/s]\n"
     ]
    },
    {
     "name": "stdout",
     "output_type": "stream",
     "text": [
      "词向量训练中.........................\n"
     ]
    },
    {
     "name": "stderr",
     "output_type": "stream",
     "text": [
      "100%|█████████████████████████████████████████████████████████████████████████| 48441/48441 [00:03<00:00, 15934.24it/s]\n"
     ]
    },
    {
     "name": "stdout",
     "output_type": "stream",
     "text": [
      "聚类中.........................\n"
     ]
    },
    {
     "name": "stderr",
     "output_type": "stream",
     "text": [
      "100%|██████████████████████████████████████████████████████████████████████████| 39620/39620 [00:13<00:00, 3004.84it/s]\n"
     ]
    },
    {
     "name": "stdout",
     "output_type": "stream",
     "text": [
      "{'num_label_0': 15205, 'num_label_1': 22745, 'num_label_2': 1669, 'num_label_all': 39619}\n",
      "1 社交 梦开始的地方，各位\n",
      "1 社交 来四川得吃鱼香肉丝啊\n",
      "1 社交 来云南吃野生菌啊\n",
      "数据有问题 nan\n",
      "0 信息 龙口粉丝\n",
      "1 信息 放醋啊！吃面怎么能不放醋\n",
      "0 娱乐 翻译了个寂寞\n",
      "1 娱乐 哈哈哈哈哈哈哈这个化妆技术也是没谁了\n",
      "0 娱乐 叔の害怕\n"
     ]
    }
   ],
   "source": [
    "result = ALL_Motivation_Analysis()\n",
    "\n",
    "print(result[1])\n",
    "\n",
    "for i in list(gddmsj.keys()):\n",
    "    try:\n",
    "        print(Cluster_Predict(i), gddmsj[i], i)\n",
    "    except:\n",
    "        print(\"数据有问题\",i)"
   ]
  },
  {
   "cell_type": "markdown",
   "id": "d973cb02",
   "metadata": {},
   "source": [
    "## 杀死伊芙"
   ]
  },
  {
   "cell_type": "markdown",
   "id": "83b92146",
   "metadata": {},
   "source": [
    "### 单独数据-预测结果"
   ]
  },
  {
   "cell_type": "code",
   "execution_count": 208,
   "id": "fb2c3ff5",
   "metadata": {
    "scrolled": true
   },
   "outputs": [
    {
     "name": "stdout",
     "output_type": "stream",
     "text": [
      "数据预处理中.........................\n"
     ]
    },
    {
     "name": "stderr",
     "output_type": "stream",
     "text": [
      "100%|███████████████████████████████████████████████████████████████████████████| 5465/5465 [00:00<00:00, 23120.76it/s]\n"
     ]
    },
    {
     "name": "stdout",
     "output_type": "stream",
     "text": [
      "词向量训练中.........................\n"
     ]
    },
    {
     "name": "stderr",
     "output_type": "stream",
     "text": [
      "100%|███████████████████████████████████████████████████████████████████████████| 5465/5465 [00:00<00:00, 16115.48it/s]\n"
     ]
    },
    {
     "name": "stdout",
     "output_type": "stream",
     "text": [
      "聚类中.........................\n"
     ]
    },
    {
     "name": "stderr",
     "output_type": "stream",
     "text": [
      "100%|███████████████████████████████████████████████████████████████████████████| 5032/5032 [00:00<00:00, 17275.83it/s]"
     ]
    },
    {
     "name": "stdout",
     "output_type": "stream",
     "text": [
      "{'num_label_0': 3355, 'num_label_1': 1629, 'num_label_2': 47, 'num_label_all': 5031}\n",
      "0 社交 变装，不懂？\n",
      "1 社交 骨头怎么办\n",
      "0 社交 我是年费老爷\n",
      "0 信息 之前那个丈夫杀妻，最后还是被发现了\n",
      "0 信息 这剧的BGM超诡异的\n",
      "0 信息 不同时间的异口同声，这简直是编剧的第1次暗示肯尼和女大佬的关系非同一般\n",
      "0 娱乐 把我Siri喊出来了哈哈哈\n",
      "数据有问题 nan\n",
      "2 娱乐 富贵使我们相遇\n"
     ]
    },
    {
     "name": "stderr",
     "output_type": "stream",
     "text": [
      "\n"
     ]
    }
   ],
   "source": [
    "data = './数据/杀死伊芙.json'\n",
    "result = Motivation_Analysis(data)\n",
    "\n",
    "print(result[1])\n",
    "\n",
    "for i in list(ssyf.keys()):\n",
    "    try:\n",
    "        print(Cluster_Predict(i), ssyf[i], i)\n",
    "    except:\n",
    "        print(\"数据有问题\",i)"
   ]
  },
  {
   "cell_type": "markdown",
   "id": "aaea69f7",
   "metadata": {},
   "source": [
    "### 全部数据-预测结果"
   ]
  },
  {
   "cell_type": "code",
   "execution_count": 209,
   "id": "03828b3d",
   "metadata": {},
   "outputs": [
    {
     "name": "stdout",
     "output_type": "stream",
     "text": [
      "数据预处理中.........................\n"
     ]
    },
    {
     "name": "stderr",
     "output_type": "stream",
     "text": [
      "100%|█████████████████████████████████████████████████████████████████████████| 48441/48441 [00:01<00:00, 27149.50it/s]\n"
     ]
    },
    {
     "name": "stdout",
     "output_type": "stream",
     "text": [
      "词向量训练中.........................\n"
     ]
    },
    {
     "name": "stderr",
     "output_type": "stream",
     "text": [
      "100%|█████████████████████████████████████████████████████████████████████████| 48441/48441 [00:03<00:00, 15973.15it/s]\n"
     ]
    },
    {
     "name": "stdout",
     "output_type": "stream",
     "text": [
      "聚类中.........................\n"
     ]
    },
    {
     "name": "stderr",
     "output_type": "stream",
     "text": [
      "100%|██████████████████████████████████████████████████████████████████████████| 39620/39620 [00:13<00:00, 3044.59it/s]"
     ]
    },
    {
     "name": "stdout",
     "output_type": "stream",
     "text": [
      "{'num_label_0': 22599, 'num_label_1': 15340, 'num_label_2': 1680, 'num_label_all': 39619}\n",
      "0 社交 变装，不懂？\n",
      "1 社交 骨头怎么办\n",
      "0 社交 我是年费老爷\n",
      "0 信息 之前那个丈夫杀妻，最后还是被发现了\n",
      "1 信息 这剧的BGM超诡异的\n",
      "1 信息 不同时间的异口同声，这简直是编剧的第1次暗示肯尼和女大佬的关系非同一般\n",
      "1 娱乐 把我Siri喊出来了哈哈哈\n",
      "数据有问题 nan\n",
      "1 娱乐 富贵使我们相遇\n"
     ]
    },
    {
     "name": "stderr",
     "output_type": "stream",
     "text": [
      "\n"
     ]
    }
   ],
   "source": [
    "result = ALL_Motivation_Analysis()\n",
    "\n",
    "print(result[1])\n",
    "\n",
    "for i in list(ssyf.keys()):\n",
    "    try:\n",
    "        print(Cluster_Predict(i), ssyf[i], i)\n",
    "    except:\n",
    "        print(\"数据有问题\",i)"
   ]
  },
  {
   "cell_type": "markdown",
   "id": "906fb1dc",
   "metadata": {},
   "source": [
    "## 食戟之灵"
   ]
  },
  {
   "cell_type": "markdown",
   "id": "ef484b4b",
   "metadata": {},
   "source": [
    "### 单独数据-预测结果"
   ]
  },
  {
   "cell_type": "code",
   "execution_count": 210,
   "id": "bfda1912",
   "metadata": {},
   "outputs": [
    {
     "name": "stdout",
     "output_type": "stream",
     "text": [
      "数据预处理中.........................\n"
     ]
    },
    {
     "name": "stderr",
     "output_type": "stream",
     "text": [
      "100%|█████████████████████████████████████████████████████████████████████████| 46051/46051 [00:01<00:00, 23188.32it/s]\n"
     ]
    },
    {
     "name": "stdout",
     "output_type": "stream",
     "text": [
      "词向量训练中.........................\n"
     ]
    },
    {
     "name": "stderr",
     "output_type": "stream",
     "text": [
      "100%|█████████████████████████████████████████████████████████████████████████| 46051/46051 [00:02<00:00, 15453.03it/s]\n"
     ]
    },
    {
     "name": "stdout",
     "output_type": "stream",
     "text": [
      "聚类中.........................\n"
     ]
    },
    {
     "name": "stderr",
     "output_type": "stream",
     "text": [
      "100%|██████████████████████████████████████████████████████████████████████████| 40313/40313 [00:14<00:00, 2818.60it/s]"
     ]
    },
    {
     "name": "stdout",
     "output_type": "stream",
     "text": [
      "{'num_label_0': 14072, 'num_label_1': 22253, 'num_label_2': 3987, 'num_label_all': 40312}\n"
     ]
    },
    {
     "name": "stderr",
     "output_type": "stream",
     "text": [
      "\n"
     ]
    }
   ],
   "source": [
    "data = './数据/食戟之灵.json'\n",
    "result = Motivation_Analysis(data)\n",
    "\n",
    "print(result[1])\n",
    "\n",
    "for i in list(sjzl.keys()):\n",
    "    try:\n",
    "        print(Cluster_Predict(i), sjzl[i], i)\n",
    "    except:\n",
    "        print(\"数据有问题\",i)"
   ]
  },
  {
   "cell_type": "markdown",
   "id": "1c5c1bcf",
   "metadata": {},
   "source": [
    "### 全部数据-预测结果"
   ]
  },
  {
   "cell_type": "code",
   "execution_count": 211,
   "id": "0dfac984",
   "metadata": {},
   "outputs": [
    {
     "name": "stdout",
     "output_type": "stream",
     "text": [
      "数据预处理中.........................\n"
     ]
    },
    {
     "name": "stderr",
     "output_type": "stream",
     "text": [
      "100%|█████████████████████████████████████████████████████████████████████████| 48441/48441 [00:01<00:00, 26198.06it/s]\n"
     ]
    },
    {
     "name": "stdout",
     "output_type": "stream",
     "text": [
      "词向量训练中.........................\n"
     ]
    },
    {
     "name": "stderr",
     "output_type": "stream",
     "text": [
      "100%|█████████████████████████████████████████████████████████████████████████| 48441/48441 [00:03<00:00, 15700.83it/s]\n"
     ]
    },
    {
     "name": "stdout",
     "output_type": "stream",
     "text": [
      "聚类中.........................\n"
     ]
    },
    {
     "name": "stderr",
     "output_type": "stream",
     "text": [
      "100%|██████████████████████████████████████████████████████████████████████████| 39620/39620 [00:13<00:00, 2967.02it/s]\n"
     ]
    },
    {
     "name": "stdout",
     "output_type": "stream",
     "text": [
      "{'num_label_0': 22883, 'num_label_1': 15058, 'num_label_2': 1678, 'num_label_all': 39619}\n"
     ]
    }
   ],
   "source": [
    "result = ALL_Motivation_Analysis()\n",
    "\n",
    "print(result[1])\n",
    "\n",
    "for i in list(sjzl.keys()):\n",
    "    try:\n",
    "        print(Cluster_Predict(i), sjzl[i], i)\n",
    "    except:\n",
    "        print(\"数据有问题\",i)"
   ]
  },
  {
   "cell_type": "markdown",
   "id": "e4ae17e1",
   "metadata": {},
   "source": [
    "## 舌尖上的中国"
   ]
  },
  {
   "cell_type": "markdown",
   "id": "5c12d92c",
   "metadata": {},
   "source": [
    "### 单独数据-预测结果"
   ]
  },
  {
   "cell_type": "code",
   "execution_count": 212,
   "id": "88cf4e49",
   "metadata": {},
   "outputs": [
    {
     "name": "stdout",
     "output_type": "stream",
     "text": [
      "数据预处理中.........................\n"
     ]
    },
    {
     "name": "stderr",
     "output_type": "stream",
     "text": [
      "100%|█████████████████████████████████████████████████████████████████████████| 48441/48441 [00:01<00:00, 26704.69it/s]\n"
     ]
    },
    {
     "name": "stdout",
     "output_type": "stream",
     "text": [
      "词向量训练中.........................\n"
     ]
    },
    {
     "name": "stderr",
     "output_type": "stream",
     "text": [
      "100%|█████████████████████████████████████████████████████████████████████████| 48441/48441 [00:02<00:00, 16765.59it/s]\n"
     ]
    },
    {
     "name": "stdout",
     "output_type": "stream",
     "text": [
      "聚类中.........................\n"
     ]
    },
    {
     "name": "stderr",
     "output_type": "stream",
     "text": [
      "100%|██████████████████████████████████████████████████████████████████████████| 39620/39620 [00:13<00:00, 2853.17it/s]\n"
     ]
    },
    {
     "name": "stdout",
     "output_type": "stream",
     "text": [
      "{'num_label_0': 22439, 'num_label_1': 1710, 'num_label_2': 15470, 'num_label_all': 39619}\n",
      "2 社交 今天刚好是立冬\n",
      "2 社交 廣州人來報道\n",
      "0 社交 \"这一集有我的家乡，贵州省从江县，欢迎远方的朋友来我们从江做客\n",
      "2 信息 数学来源于生活，也服务于生活\n",
      "0 信息 豆腐在汉代发明的 是一个王爷发明的。\n",
      "0 信息 太辛苦了\n",
      "2 娱乐 哈哈哈哈哈糯米僵尸\n",
      "2 娱乐 多谢款待\n",
      "0 娱乐 高端的食材\n"
     ]
    }
   ],
   "source": [
    "data = './数据/舌尖上的中国.json'\n",
    "result = Motivation_Analysis(data)\n",
    "\n",
    "print(result[1])\n",
    "\n",
    "for i in list(sjsdzg.keys()):\n",
    "    try:\n",
    "        print(Cluster_Predict(i), sjsdzg[i], i)\n",
    "    except:\n",
    "        print(\"数据有问题\",i)"
   ]
  },
  {
   "cell_type": "markdown",
   "id": "f6adb08c",
   "metadata": {},
   "source": [
    "### 全部数据-预测结果"
   ]
  },
  {
   "cell_type": "code",
   "execution_count": 213,
   "id": "5c25d8df",
   "metadata": {},
   "outputs": [
    {
     "name": "stdout",
     "output_type": "stream",
     "text": [
      "数据预处理中.........................\n"
     ]
    },
    {
     "name": "stderr",
     "output_type": "stream",
     "text": [
      "100%|█████████████████████████████████████████████████████████████████████████| 48441/48441 [00:01<00:00, 26571.96it/s]\n"
     ]
    },
    {
     "name": "stdout",
     "output_type": "stream",
     "text": [
      "词向量训练中.........................\n"
     ]
    },
    {
     "name": "stderr",
     "output_type": "stream",
     "text": [
      "100%|█████████████████████████████████████████████████████████████████████████| 48441/48441 [00:02<00:00, 16696.87it/s]\n"
     ]
    },
    {
     "name": "stdout",
     "output_type": "stream",
     "text": [
      "聚类中.........................\n"
     ]
    },
    {
     "name": "stderr",
     "output_type": "stream",
     "text": [
      "100%|██████████████████████████████████████████████████████████████████████████| 39620/39620 [00:12<00:00, 3224.31it/s]"
     ]
    },
    {
     "name": "stdout",
     "output_type": "stream",
     "text": [
      "{'num_label_0': 14960, 'num_label_1': 22999, 'num_label_2': 1660, 'num_label_all': 39619}\n",
      "0 社交 今天刚好是立冬\n",
      "0 社交 廣州人來報道\n",
      "1 社交 \"这一集有我的家乡，贵州省从江县，欢迎远方的朋友来我们从江做客\n",
      "0 信息 数学来源于生活，也服务于生活\n",
      "1 信息 豆腐在汉代发明的 是一个王爷发明的。\n",
      "1 信息 太辛苦了\n",
      "0 娱乐 哈哈哈哈哈糯米僵尸\n",
      "0 娱乐 多谢款待\n",
      "1 娱乐 高端的食材\n"
     ]
    },
    {
     "name": "stderr",
     "output_type": "stream",
     "text": [
      "\n"
     ]
    }
   ],
   "source": [
    "result = ALL_Motivation_Analysis()\n",
    "\n",
    "print(result[1])\n",
    "\n",
    "for i in list(sjsdzg.keys()):\n",
    "    try:\n",
    "        print(Cluster_Predict(i), sjsdzg[i], i)\n",
    "    except:\n",
    "        print(\"数据有问题\",i)"
   ]
  },
  {
   "cell_type": "code",
   "execution_count": null,
   "id": "66ea4048",
   "metadata": {},
   "outputs": [],
   "source": []
  }
 ],
 "metadata": {
  "kernelspec": {
   "display_name": "Python 3 (ipykernel)",
   "language": "python",
   "name": "python3"
  },
  "language_info": {
   "codemirror_mode": {
    "name": "ipython",
    "version": 3
   },
   "file_extension": ".py",
   "mimetype": "text/x-python",
   "name": "python",
   "nbconvert_exporter": "python",
   "pygments_lexer": "ipython3",
   "version": "3.9.7"
  },
  "toc": {
   "base_numbering": 1,
   "nav_menu": {},
   "number_sections": true,
   "sideBar": true,
   "skip_h1_title": false,
   "title_cell": "Table of Contents",
   "title_sidebar": "Contents",
   "toc_cell": false,
   "toc_position": {
    "height": "calc(100% - 180px)",
    "left": "10px",
    "top": "150px",
    "width": "303.837px"
   },
   "toc_section_display": true,
   "toc_window_display": true
  }
 },
 "nbformat": 4,
 "nbformat_minor": 5
}
